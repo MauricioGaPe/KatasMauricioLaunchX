{
 "cells": [
  {
   "cell_type": "markdown",
   "metadata": {},
   "source": [
    "# Crear y usar listas"
   ]
  },
  {
   "cell_type": "code",
   "execution_count": 7,
   "metadata": {},
   "outputs": [
    {
     "name": "stdout",
     "output_type": "stream",
     "text": [
      "Numero de planetas: 8\n",
      "Numero de planetas: 9\n"
     ]
    }
   ],
   "source": [
    "planets = ['Mercurio', 'Venus', 'Tierra', 'Marte', 'Jupiter', 'Saturno', 'Neptuno', 'Urano']\n",
    "print('Numero de planetas: ' + str(len(planets)))\n",
    "planets.append('Pluton')\n",
    "print('Numero de planetas: ' + str(len(planets)))"
   ]
  },
  {
   "cell_type": "markdown",
   "metadata": {},
   "source": [
    "# Trabajando con datos de una lista"
   ]
  },
  {
   "cell_type": "code",
   "execution_count": 2,
   "metadata": {},
   "outputs": [
    {
     "name": "stdout",
     "output_type": "stream",
     "text": [
      "Planetas mas carcanos que Marte : \n",
      "['Mercurio', 'Venus', 'Tierra']\n",
      "Planetas mas lejanos que Marte : \n",
      "['Jupiter', 'Saturno', 'Neptuno', 'Urano']\n"
     ]
    }
   ],
   "source": [
    "planets = ['Mercurio', 'Venus', 'Tierra', 'Marte', 'Jupiter', 'Saturno', 'Neptuno', 'Urano']\n",
    "inputPlanet = input(\"Por favor escribe el nombre de un planeta en español:\")\n",
    "planetNotExist = True\n",
    "for planet in planets:\n",
    "    if(inputPlanet.lower() == planet.lower()):\n",
    "        i = planets.index(planet)\n",
    "        planetsBeforeEarth = planets[0:i]\n",
    "        print(f\"Planetas mas carcanos que {planet} : \")\n",
    "        print(planetsBeforeEarth)\n",
    "        planetsAfterEarth = planets[i+1:]\n",
    "        print(f\"Planetas mas lejanos que {planet} : \")\n",
    "        print(planetsAfterEarth)\n",
    "        planetNotExist = False\n",
    "        break\n",
    "if(planetNotExist):\n",
    "    print(\"Te dije un planeta o no estás respetando la Ortografía, vuelve a intentarlo\")\n"
   ]
  }
 ],
 "metadata": {
  "interpreter": {
   "hash": "ea810199eddae8561177ea91bb1bfd0ea6ff8cd7d4d5dc75d4a3a46771d3c43d"
  },
  "kernelspec": {
   "display_name": "Python 3.10.2 64-bit",
   "language": "python",
   "name": "python3"
  },
  "language_info": {
   "codemirror_mode": {
    "name": "ipython",
    "version": 3
   },
   "file_extension": ".py",
   "mimetype": "text/x-python",
   "name": "python",
   "nbconvert_exporter": "python",
   "pygments_lexer": "ipython3",
   "version": "3.10.2"
  },
  "orig_nbformat": 4
 },
 "nbformat": 4,
 "nbformat_minor": 2
}
