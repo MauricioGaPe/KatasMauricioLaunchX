{
 "cells": [
  {
   "cell_type": "markdown",
   "metadata": {},
   "source": [
    "# Añadir el código necesario para crear una variable que guarde la velocidad del asteroide.\n",
    "# Escribe una expresión de prueba para calcular si necesita una advertencia.\n",
    "# Agregue las instrucciones que se ejecutarán si la expresión de prueba es true o false."
   ]
  },
  {
   "cell_type": "code",
   "execution_count": 1,
   "metadata": {},
   "outputs": [
    {
     "name": "stdout",
     "output_type": "stream",
     "text": [
      "Peligro, un asteroide se acerca a una velocidad inquietante a la tierra\n"
     ]
    }
   ],
   "source": [
    "speed = 49\n",
    "\n",
    "if speed >= 25:\n",
    "    print('Peligro, un asteroide se acerca a una velocidad inquietante a la tierra')\n",
    "else:\n",
    "    print('No hay peligro ninguno con el asteroide detectado')\n"
   ]
  },
  {
   "cell_type": "markdown",
   "metadata": {},
   "source": [
    "# Agrega el código para crear una variable para un asteroide que viaja a 19 km/s\n",
    "# Escribe varias expresiones de prueba para determinar si puedes ver el rayo de luz desde la tierra\n",
    "# Agrega las instrucciones que se ejecutarán si las expresiones de prueba son True o False"
   ]
  },
  {
   "cell_type": "code",
   "execution_count": 5,
   "metadata": {},
   "outputs": [
    {
     "name": "stdout",
     "output_type": "stream",
     "text": [
      "No hay peligro ninguno con el asteroide detectado\n"
     ]
    }
   ],
   "source": [
    "speed = 19\n",
    "\n",
    "if speed >=20:\n",
    "    if speed >=25:\n",
    "        print('Peligro, un asteroide se acerca a una velocidad inquietante a la tierra, por otro lado puede ver un hermoso rayo de luz antes de morir :)')\n",
    "    else:\n",
    "        print('Se acerca un asteroide, no hay peligro, pero si mira el cielo podría observar un hermoso rayo de luz')\n",
    "else:\n",
    "    print('No hay peligro ninguno con el asteroide detectado')"
   ]
  },
  {
   "cell_type": "markdown",
   "metadata": {},
   "source": [
    "# Agrega el código para crear nuevas variables para la velocidad y el tamaño del asteroide\n",
    "# Para probar el código, prueba con varias velocidades y tamaños\n",
    "# Escribe varias expresiones de prueba o combinaciones de expresiones de prueba para determinar qué mensaje se debe enviar a Tierra."
   ]
  },
  {
   "cell_type": "code",
   "execution_count": 13,
   "metadata": {},
   "outputs": [
    {
     "name": "stdout",
     "output_type": "stream",
     "text": [
      "El asteroide causará daños graves a la tierra, hora de huir... 2\n"
     ]
    }
   ],
   "source": [
    "speed = 19\n",
    "size = 26\n",
    "\n",
    "if speed >=20:\n",
    "    if speed >=25:\n",
    "        print('Peligro, un asteroide se acerca a una velocidad inquietante a la tierra, por otro lado puede ver un hermoso rayo de luz antes de morir :)')\n",
    "    elif size > 25 and size < 1000:\n",
    "        print('El asteroide causará daños graves a la tierra, hora de huir... 1')\n",
    "    else:\n",
    "        print('Se acerca un asteroide, no hay peligro, pero si mira el cielo podría observar un hermoso rayo de luz')\n",
    "elif size > 25 and size < 1000:\n",
    "    print('El asteroide causará daños graves a la tierra, hora de huir... 2')\n",
    "else:\n",
    "    print('No hay peligro ninguno con el asteroide detectado')"
   ]
  }
 ],
 "metadata": {
  "interpreter": {
   "hash": "ea810199eddae8561177ea91bb1bfd0ea6ff8cd7d4d5dc75d4a3a46771d3c43d"
  },
  "kernelspec": {
   "display_name": "Python 3.10.2 64-bit",
   "language": "python",
   "name": "python3"
  },
  "language_info": {
   "codemirror_mode": {
    "name": "ipython",
    "version": 3
   },
   "file_extension": ".py",
   "mimetype": "text/x-python",
   "name": "python",
   "nbconvert_exporter": "python",
   "pygments_lexer": "ipython3",
   "version": "3.10.2"
  },
  "orig_nbformat": 4
 },
 "nbformat": 4,
 "nbformat_minor": 2
}
