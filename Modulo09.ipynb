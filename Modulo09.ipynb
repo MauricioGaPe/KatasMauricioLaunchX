{
 "cells": [
  {
   "cell_type": "markdown",
   "metadata": {},
   "source": [
    "# Funciones"
   ]
  },
  {
   "cell_type": "code",
   "execution_count": 2,
   "metadata": {},
   "outputs": [
    {
     "name": "stdout",
     "output_type": "stream",
     "text": [
      "Reporte de gasolina:\n",
      "    Promedio total: 66.66666666666667%\n",
      "    Tanque principal: 60%\n",
      "    Tanque secundario: 50%\n",
      "    Tanque terceario: 90%\n",
      "    \n"
     ]
    }
   ],
   "source": [
    "def rocket_tank(tanquePrincipal, tanqueSecundario, tanqueTerceario):\n",
    "    return f\"\"\"Reporte de gasolina:\n",
    "    Promedio total: {promedio(tanquePrincipal,tanqueSecundario,tanqueTerceario)}%\n",
    "    Tanque principal: {tanquePrincipal}%\n",
    "    Tanque secundario: {tanqueSecundario}%\n",
    "    Tanque terceario: {tanqueTerceario}%\n",
    "    \"\"\"\n",
    "def promedio(tanqueUno,tanqueDos, tanqueTres):\n",
    "    return (tanqueUno+tanqueDos+tanqueTres)/3\n",
    "print(rocket_tank(60, 50, 90))"
   ]
  },
  {
   "cell_type": "markdown",
   "metadata": {},
   "source": [
    "# Argumentos de palabra clave"
   ]
  },
  {
   "cell_type": "code",
   "execution_count": 3,
   "metadata": {},
   "outputs": [
    {
     "name": "stdout",
     "output_type": "stream",
     "text": [
      "Detalles de la misión:\n",
      "    Hora de lanzamiento: 14 \n",
      "    Tiempo de vuelo: 51\n",
      "    Con destino a Moon\n",
      "    Gasolina total: 500000 Litros\n",
      "    \n"
     ]
    }
   ],
   "source": [
    "def rocket_status(prelanzamiento, tiempo_de_vuelo, destino, tanque_externo, tanque_interno):\n",
    "    return f\"\"\"Detalles de la misión:\n",
    "    Hora de lanzamiento: {prelanzamiento} \n",
    "    Tiempo de vuelo: {tiempo_de_vuelo}\n",
    "    Con destino a {destino}\n",
    "    Gasolina total: {tanque_externo + tanque_interno} Litros\n",
    "    \"\"\"\n",
    "\n",
    "print(rocket_status(14, 51, \"Moon\", 200000, 300000))"
   ]
  },
  {
   "cell_type": "code",
   "execution_count": 4,
   "metadata": {},
   "outputs": [
    {
     "name": "stdout",
     "output_type": "stream",
     "text": [
      "Detalles de la misión:\n",
      "    Tiempo de vuelo: 76\n",
      "    Con destino a Moon\n",
      "    Gasolina total: 500000 Litros\n",
      "    \n"
     ]
    }
   ],
   "source": [
    "def rocket_status(destino, *minutos, **gasolina):\n",
    "    return f\"\"\"Detalles de la misión:\n",
    "    Tiempo de vuelo: {sum(destino)}\n",
    "    Con destino a {minutos}\n",
    "    Gasolina total: {sum(gasolina.values())} Litros\n",
    "    \"\"\"\n",
    "\n",
    "print(rocket_status(\"Moon\", 10, 15, 51, main=300000, external=200000))"
   ]
  },
  {
   "cell_type": "code",
   "execution_count": 8,
   "metadata": {},
   "outputs": [
    {
     "name": "stdout",
     "output_type": "stream",
     "text": [
      "Detalles de la misión:\n",
      "    Tiempo de vuelo: Moon\n",
      "    Con destino a 74\n",
      "    Gasolina total: 500000 Litros\n",
      "    principal tanque -> 300000 Litros sobran\n",
      "externo tanque -> 200000 Litros sobran\n",
      "\n"
     ]
    }
   ],
   "source": [
    "def rocket_status(destino, *minutos, **gasolina):\n",
    "    reporte = f\"\"\"Detalles de la misión:\n",
    "    Tiempo de vuelo: {destino}\n",
    "    Con destino a {sum(minutos)}\n",
    "    Gasolina total: {sum(gasolina.values())} Litros\n",
    "    \"\"\"\n",
    "    for tank_name, gallons in gasolina.items():\n",
    "        reporte += f\"{tank_name} tanque -> {gallons} Litros sobran\\n\"\n",
    "    return reporte\n",
    "\n",
    "print(rocket_status(\"Moon\", 8, 11, 55, principal=300000, externo=200000))"
   ]
  }
 ],
 "metadata": {
  "interpreter": {
   "hash": "ea810199eddae8561177ea91bb1bfd0ea6ff8cd7d4d5dc75d4a3a46771d3c43d"
  },
  "kernelspec": {
   "display_name": "Python 3.10.2 64-bit",
   "language": "python",
   "name": "python3"
  },
  "language_info": {
   "codemirror_mode": {
    "name": "ipython",
    "version": 3
   },
   "file_extension": ".py",
   "mimetype": "text/x-python",
   "name": "python",
   "nbconvert_exporter": "python",
   "pygments_lexer": "ipython3",
   "version": "3.10.2"
  },
  "orig_nbformat": 4
 },
 "nbformat": 4,
 "nbformat_minor": 2
}
