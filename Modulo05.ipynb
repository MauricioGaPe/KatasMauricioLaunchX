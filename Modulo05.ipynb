{
 "cells": [
  {
   "cell_type": "markdown",
   "metadata": {},
   "source": [
    "# Distancia entre Planetas"
   ]
  },
  {
   "cell_type": "code",
   "execution_count": 10,
   "metadata": {},
   "outputs": [
    {
     "name": "stdout",
     "output_type": "stream",
     "text": [
      "La distancia es:\n",
      "628949330 en km\n",
      "y aproximadamente 390577534 en millas\n"
     ]
    }
   ],
   "source": [
    "tierra = 149597870\n",
    "jupiter = 778547200\n",
    "distancia = abs(tierra - jupiter)\n",
    "print(\"La distancia es:\\n\" + str(distancia) + \" en km\\ny aproximadamente \" + str(round(distancia * .621)) + \" en millas\")"
   ]
  },
  {
   "cell_type": "markdown",
   "metadata": {},
   "source": [
    "# Usando input, cadenas en números y valores absolutos"
   ]
  },
  {
   "cell_type": "code",
   "execution_count": 12,
   "metadata": {},
   "outputs": [
    {
     "name": "stdout",
     "output_type": "stream",
     "text": [
      "La distancia de mercurio a neptuno es\n",
      "4437200000 en km\n",
      "y aproximadamente 2755501200 en millas\n"
     ]
    }
   ],
   "source": [
    "planetaUno = input(\"Cuál es el primer planeta que deseas comparar?\")\n",
    "distanciaUno = int(input(\"Cuál es la distancia del sol al planeta \" + planetaUno + \" ?\"))\n",
    "planetaDos = input(\"Cuál es el segundo planeta que deseas comparar?\")\n",
    "distanciaDos = int(input(\"Cuál es la distancia del sol al planeta \" + planetaDos + \" ?\"))\n",
    "distanciaPlanetas = abs(distanciaDos - distanciaUno)\n",
    "print(\"La distancia de \" + planetaUno + \" a \" + planetaDos + \" es\\n\" + str(distanciaPlanetas) + \" en km\\ny aproximadamente \" + str(round(distanciaPlanetas * .621)) + \" en millas\")"
   ]
  }
 ],
 "metadata": {
  "interpreter": {
   "hash": "ea810199eddae8561177ea91bb1bfd0ea6ff8cd7d4d5dc75d4a3a46771d3c43d"
  },
  "kernelspec": {
   "display_name": "Python 3.10.2 64-bit",
   "language": "python",
   "name": "python3"
  },
  "language_info": {
   "codemirror_mode": {
    "name": "ipython",
    "version": 3
   },
   "file_extension": ".py",
   "mimetype": "text/x-python",
   "name": "python",
   "nbconvert_exporter": "python",
   "pygments_lexer": "ipython3",
   "version": "3.10.2"
  },
  "orig_nbformat": 4
 },
 "nbformat": 4,
 "nbformat_minor": 2
}
